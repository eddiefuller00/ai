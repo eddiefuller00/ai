{
  "nbformat": 4,
  "nbformat_minor": 0,
  "metadata": {
    "colab": {
      "provenance": [],
      "authorship_tag": "ABX9TyObKb3Bq6dyfL/RsDS8+WFT",
      "include_colab_link": true
    },
    "kernelspec": {
      "name": "python3",
      "display_name": "Python 3"
    },
    "language_info": {
      "name": "python"
    }
  },
  "cells": [
    {
      "cell_type": "markdown",
      "metadata": {
        "id": "view-in-github",
        "colab_type": "text"
      },
      "source": [
        "<a href=\"https://colab.research.google.com/github/eddiefuller00/ai/blob/main/problem3.ipynb\" target=\"_parent\"><img src=\"https://colab.research.google.com/assets/colab-badge.svg\" alt=\"Open In Colab\"/></a>"
      ]
    },
    {
      "cell_type": "markdown",
      "source": [
        "author: Eddie Fuller\n",
        "DFS to navigate maze"
      ],
      "metadata": {
        "id": "kMynBTGmRRVa"
      }
    },
    {
      "cell_type": "code",
      "execution_count": 11,
      "metadata": {
        "id": "q2DZZfIORO7h"
      },
      "outputs": [],
      "source": [
        "from typing import Dict, List, Set\n",
        "\n",
        "def dfs_reachable(G: Dict[str, Set[str]], start: str, goal: str) -> str:\n",
        "# if either start node does not exist give fail\n",
        " if start not in G or goal not in G:\n",
        "    return \"fail\"\n",
        "#keep track of nodes visited\n",
        " visited: Set[str] = set()\n",
        " def dfs(u: str) -> bool:\n",
        "  if u == goal:  #if current node is the goal\n",
        "    return True\n",
        "  visited.add(u) # mark as visited\n",
        "  #explore each neighbor of current\n",
        "  for v in G.get(u, []):\n",
        "    if v not in visited: #only go to unvisited\n",
        "      if dfs(v):\n",
        "        return True\n",
        "\n",
        "  return False #when no path is found\n",
        "\n",
        " return \"success\" if dfs(start) else \"fail\""
      ]
    },
    {
      "cell_type": "code",
      "source": [
        "GA = {\n",
        "    'S': ['A'],\n",
        "    'A': ['s', 'B', 'X'],\n",
        "    'B': ['A', 'G'],\n",
        "    'X': ['A'],\n",
        "    'G': ['B']\n",
        "\n",
        "}\n",
        "\n",
        "GB = {\n",
        "    'S': ['A'],\n",
        "    'A': ['S', 'X'],\n",
        "    'X': ['A'],\n",
        "    'G': []\n",
        "}"
      ],
      "metadata": {
        "id": "itbMO35tXUWf"
      },
      "execution_count": 12,
      "outputs": []
    },
    {
      "cell_type": "code",
      "source": [
        "print(\"graph a:\", dfs_reachable(GA, 'S', 'G'))\n",
        "print(\"graph b:\", dfs_reachable(GB, 'S', 'G'))"
      ],
      "metadata": {
        "colab": {
          "base_uri": "https://localhost:8080/"
        },
        "id": "eLRNPg1ZYChr",
        "outputId": "deebd81b-84ae-4d21-d7da-bbcedb5e27cb"
      },
      "execution_count": 13,
      "outputs": [
        {
          "output_type": "stream",
          "name": "stdout",
          "text": [
            "graph a: success\n",
            "graph b: fail\n"
          ]
        }
      ]
    }
  ]
}