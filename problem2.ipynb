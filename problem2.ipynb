{
  "nbformat": 4,
  "nbformat_minor": 0,
  "metadata": {
    "colab": {
      "provenance": [],
      "authorship_tag": "ABX9TyNWqDMjQvhuudp/Hx+0XG+s",
      "include_colab_link": true
    },
    "kernelspec": {
      "name": "python3",
      "display_name": "Python 3"
    },
    "language_info": {
      "name": "python"
    }
  },
  "cells": [
    {
      "cell_type": "markdown",
      "metadata": {
        "id": "view-in-github",
        "colab_type": "text"
      },
      "source": [
        "<a href=\"https://colab.research.google.com/github/eddiefuller00/ai/blob/main/problem2.ipynb\" target=\"_parent\"><img src=\"https://colab.research.google.com/assets/colab-badge.svg\" alt=\"Open In Colab\"/></a>"
      ]
    },
    {
      "cell_type": "code",
      "execution_count": 1,
      "metadata": {
        "id": "NktKUWTB6MpT"
      },
      "outputs": [],
      "source": [
        "from collections import deque\n",
        "from typing import Dict, List, Set\n",
        "\n",
        "def potential_friends(G: Dict[str, List[str]], user: str) -> List[str]:\n",
        "  #if user isnt there return nothing\n",
        "  if user not in G:\n",
        "    return[]\n",
        "  #store distance from starting user\n",
        "  dist = {user: 0}\n",
        "  #keep track of nodes we have been to\n",
        "  visited: Set[str] = {user}\n",
        "  # start que with the starting node\n",
        "  q = deque([user])\n",
        "  # bfs loop\n",
        "  while q:\n",
        "    u = q.popleft() #current node\n",
        "    if dist[u] == 2:\n",
        "      #dont expand neighbors at distance 2\n",
        "      continue\n",
        "      #look for each friend of current node\n",
        "    for v in G.get(u, []):\n",
        "      if v not in visited: # skip if already visited\n",
        "        visited.add(v)\n",
        "        #only que if within 2\n",
        "        dist[v] = dist[u] + 1\n",
        "        if dist[v] <= 2:\n",
        "          q.append(v)\n",
        "\n",
        "  #distance 1 nodes are the current friends, and distance 2 nodes are potential reccommended friends\n",
        "  d1 = {x for x, d in dist.items() if d == 1}\n",
        "  d2 = {x for x, d in dist.items() if d == 2}\n",
        "# exclude the user and any direct friends of the user\n",
        "  recs = sorted(d2 - d1 - {user})\n",
        "  return recs\n",
        "\n",
        "def PotentialFriends(G: Dict[str, List[str]], user: str) -> None:\n",
        "  recs = potential_friends(G, user)\n",
        "  print(f\"potential friends for {user}: {', '.join(recs) if recs else '(none)'}\")"
      ]
    },
    {
      "cell_type": "code",
      "source": [
        "G = {\n",
        "    'Maria': ['Adam', 'Sophia', 'Maya', 'David'],\n",
        "    'Adam': ['Maria'],\n",
        "    'Sophia': ['Maria', 'Maya'],\n",
        "    'Maya': ['Maria', 'Sophia', 'David'],\n",
        "    'David': ['Maria', 'Maya'],\n",
        "}"
      ],
      "metadata": {
        "id": "bE9f_jI07ivI"
      },
      "execution_count": 2,
      "outputs": []
    },
    {
      "cell_type": "code",
      "source": [
        "PotentialFriends(G, 'Adam')\n",
        "PotentialFriends(G, 'David')\n",
        "PotentialFriends(G, 'Sophia')"
      ],
      "metadata": {
        "colab": {
          "base_uri": "https://localhost:8080/"
        },
        "id": "wJazeKn59nU8",
        "outputId": "8fef6355-9e31-426e-b303-93b130df4a8d"
      },
      "execution_count": 3,
      "outputs": [
        {
          "output_type": "stream",
          "name": "stdout",
          "text": [
            "potential friends for Adam: David, Maya, Sophia\n",
            "potential friends for David: Adam, Sophia\n",
            "potential friends for Sophia: Adam, David\n"
          ]
        }
      ]
    }
  ]
}