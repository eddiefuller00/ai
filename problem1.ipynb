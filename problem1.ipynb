{
  "nbformat": 4,
  "nbformat_minor": 0,
  "metadata": {
    "colab": {
      "provenance": [],
      "authorship_tag": "ABX9TyMyJZsmZTgskuQyqnzwd/Qa",
      "include_colab_link": true
    },
    "kernelspec": {
      "name": "python3",
      "display_name": "Python 3"
    },
    "language_info": {
      "name": "python"
    }
  },
  "cells": [
    {
      "cell_type": "markdown",
      "metadata": {
        "id": "view-in-github",
        "colab_type": "text"
      },
      "source": [
        "<a href=\"https://colab.research.google.com/github/eddiefuller00/ai/blob/main/problem1.ipynb\" target=\"_parent\"><img src=\"https://colab.research.google.com/assets/colab-badge.svg\" alt=\"Open In Colab\"/></a>"
      ]
    },
    {
      "cell_type": "markdown",
      "source": [
        "Author: Eddie Fuller"
      ],
      "metadata": {
        "id": "bmAu-N0sNNcs"
      }
    },
    {
      "cell_type": "code",
      "execution_count": 1,
      "metadata": {
        "id": "FmVNuJTHIC1r"
      },
      "outputs": [],
      "source": [
        "from collections import deque\n",
        "from typing import Dict, List, Set\n",
        "\n",
        "def bfs_k_level_friends(G: Dict[str, List[str]], user: str, k: int) -> List[str]:\n",
        "\n",
        "  # if user not in graph return empty\n",
        "  if user not in G:\n",
        "    return[]\n",
        "  #distance 0 if for the user themselves\n",
        "  if k == 0:\n",
        "    return [user]\n",
        "  #keep track of nodes already visited\n",
        "  visited: Set[str] = {user}\n",
        "  #stores distance of each node from the starting node\n",
        "  dist = {user: 0}\n",
        "  q = deque([user])\n",
        "  #process nodes in BFS order\n",
        "  while q:\n",
        "    cur = q.popleft() #gets next node\n",
        "    if dist[cur] < k:\n",
        "      for nbr in G.get(cur, []):\n",
        "        if nbr not in visited: #skip nodes that have already been visited\n",
        "          visited.add(nbr) #mark neighbor as visited\n",
        "          dist[nbr] = dist[cur] + 1 #distance = parent node distance plus 1\n",
        "          q.append(nbr)\n",
        "  # gather all nodes that end with distance exactly at k\n",
        "  kth_nodes = [v for v, d in dist.items() if d == k]\n",
        "  #return sorted list\n",
        "  return sorted(kth_nodes)\n",
        "\n",
        "def FindFriends(G: Dict[str, List[str]], user: str, k: int) -> None:\n",
        "  friends = bfs_k_level_friends(G, user, k)\n",
        "  if friends:\n",
        "    print(f\"level {k} friends of {user}: {', '.join(friends)}\")\n",
        "  else:\n",
        "    print(f\"Level {k} friends of {user}: (none)\")"
      ]
    },
    {
      "cell_type": "code",
      "source": [
        "\n",
        "G = {\n",
        "    'Bob':  ['Carl', 'Dana'],\n",
        "    'Carl': ['Bob', 'Eli'],\n",
        "    'Dana': ['Bob', 'Fran'],\n",
        "    'Eli':  ['Carl', 'Amy'],\n",
        "    'Fran': ['Dana', 'Anna'],\n",
        "    'Amy':  ['Eli'],\n",
        "    'Anna': ['Fran']\n",
        "}\n"
      ],
      "metadata": {
        "id": "NwZfQNlTNE9R"
      },
      "execution_count": 2,
      "outputs": []
    },
    {
      "cell_type": "code",
      "source": [
        "\n",
        "FindFriends(G, 'Bob', 3)\n"
      ],
      "metadata": {
        "id": "EGFrG_bhNJad",
        "outputId": "2171da6c-55b5-47c1-8e97-6a91bfdee259",
        "colab": {
          "base_uri": "https://localhost:8080/"
        }
      },
      "execution_count": 3,
      "outputs": [
        {
          "output_type": "stream",
          "name": "stdout",
          "text": [
            "level 3 friends of Bob: Amy, Anna\n"
          ]
        }
      ]
    }
  ]
}