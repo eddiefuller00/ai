{
  "nbformat": 4,
  "nbformat_minor": 0,
  "metadata": {
    "colab": {
      "provenance": []
    },
    "kernelspec": {
      "name": "python3",
      "display_name": "Python 3"
    },
    "language_info": {
      "name": "python"
    }
  },
  "cells": [
    {
      "cell_type": "code",
      "execution_count": null,
      "metadata": {
        "id": "kwR_hCUIZLKX"
      },
      "outputs": [],
      "source": [
        "from dataclasses import dataclass\n",
        "from typing import Tuple, Callable, Dict, Optional, Iterable, List\n",
        "from collections import deque\n",
        "\n",
        "State = Tuple[int, int]  # (five_litre, three_litre)\n"
      ]
    },
    {
      "cell_type": "code",
      "source": [],
      "metadata": {
        "id": "2c7M6DpnOk2z"
      },
      "execution_count": null,
      "outputs": []
    },
    {
      "cell_type": "code",
      "source": [
        "from typing import Tuple, Callable, Dict, Optional, Iterable, List\n",
        "from collections import deque\n",
        "\n",
        "State = Tuple[int, int]  # (five_litre, three_litre)\n",
        "\n",
        "\n",
        "@dataclass(frozen=True)\n",
        "class Capacities:\n",
        "  # max capacity of each jug\n",
        "    five: int = 5\n",
        "    three: int = 3\n",
        "\n",
        "class WaterJugPuzzle:\n",
        "    def __init__(self, capacities: Capacities = Capacities()):\n",
        "      # store jug cap\n",
        "        self.cap = capacities\n",
        "        # both start empty\n",
        "        self.start: State = (0, 0)\n",
        "        # mapping rules to their functions\n",
        "        self.rules: Dict[str, Callable[[State], Optional[State]]] = {\n",
        "            \"fill_5\": self.fill_5,\n",
        "            \"fill_3\": self.fill_3,\n",
        "            \"empty_5\": self.empty_5,\n",
        "            \"empty_3\": self.empty_3,\n",
        "            \"pour_5_to_3\": self.pour_5_to_3,\n",
        "            \"pour_3_to_5\": self.pour_3_to_5,\n",
        "        }\n",
        "# makes sure they dont go over the cap\n",
        "    def is_valid(self, s: State) -> bool:\n",
        "        x, y = s\n",
        "        return 0 <= x <= self.cap.five and 0 <= y <= self.cap.three\n",
        "# defines the goal\n",
        "    def goal(self, s: State) -> bool:\n",
        "        return s[0] == 4\n",
        "# makes sure the move is allowed\n",
        "    def _guard(self, cond: bool, s: State) -> Optional[State]:\n",
        "        return s if cond and self.is_valid(s) else None\n",
        "\n",
        "\n",
        "# fill 5L jug\n",
        "    def fill_5(self, s: State):\n",
        "        return self._guard(s[0] < self.cap.five, (self.cap.five, s[1]))\n",
        "\n",
        "# fill 3L\n",
        "    def fill_3(self, s: State):\n",
        "        return self._guard(s[1] < self.cap.three, (s[0], self.cap.three))\n",
        "\n",
        "# empty 5L\n",
        "    def empty_5(self, s: State):\n",
        "        return self._guard(s[0] > 0, (0, s[1]))\n",
        "\n",
        "# empty 3L\n",
        "    def empty_3(self, s: State):\n",
        "        return self._guard(s[1] > 0, (s[0], 0))\n",
        "\n",
        "# pours 5 into 3 until 5 is empty or 3 is full\n",
        "    def pour_5_to_3(self, s: State):\n",
        "        x, y = s\n",
        "        if x == 0 or y == self.cap.three:\n",
        "            return None\n",
        "        space = self.cap.three - y\n",
        "        poured = min(x, space)\n",
        "        return self._guard(True, (x - poured, y + poured))\n",
        "\n",
        "#pours 3 to 5 until 3 is empty or 5 is full\n",
        "    def pour_3_to_5(self, s: State):\n",
        "        x, y = s\n",
        "        if y == 0 or x == self.cap.five:\n",
        "            return None\n",
        "        space = self.cap.five - x\n",
        "        poured = min(y, space)\n",
        "        return self._guard(True, (x + poured, y - poured))\n",
        "\n",
        "\n",
        "\n",
        "# generate all valid moves from current state\n",
        "    def successors(self, s: State) -> Dict[str, State]:\n",
        "        return {name: ns for name, rule in self.rules.items() if (ns := rule(s))}\n",
        "# apply single rule to current state\n",
        "    def apply_rule(self, s: State, rule_name: str) -> State:\n",
        "        ns = self.rules[rule_name](s)\n",
        "        if ns is None:\n",
        "            raise ValueError(f\"Illegal move: {rule_name} from {s}\")\n",
        "        return ns\n",
        "\n",
        " # apply sequence of rules from starting state\n",
        "    def apply_sequence(self, seq: Iterable[str], start: Optional[State]=None, verbose=True) -> State:\n",
        "        s = self.start if start is None else start\n",
        "        if verbose:\n",
        "            print(f\"Start: {s}\")\n",
        "        for i, r in enumerate(seq, 1):\n",
        "            s = self.apply_rule(s, r)\n",
        "            if verbose:\n",
        "                print(f\"{i}. {r} -> {s}\")\n",
        "        if verbose:\n",
        "            print(f\"End: {s} {'(GOAL)' if self.goal(s) else ''}\")\n",
        "        return s\n",
        "\n",
        "\n",
        "# breadth first to find the shortest sequence\n",
        "    def bfs(self) -> List[str]:\n",
        "        frontier = deque([self.start])\n",
        "        parent = {self.start: None}\n",
        "        parent_rule = {self.start: None}\n",
        "        while frontier:\n",
        "            s = frontier.popleft()\n",
        "            # re create path of rule names from goal to start\n",
        "            if self.goal(s):\n",
        "                path, cur = [], s\n",
        "                while parent[cur] is not None:\n",
        "                    path.append(parent_rule[cur])\n",
        "                    cur = parent[cur]\n",
        "                return list(reversed(path))\n",
        "            for rule_name, ns in self.successors(s).items():\n",
        "                if ns not in parent:\n",
        "                    parent[ns] = s\n",
        "                    parent_rule[ns] = rule_name\n",
        "                    frontier.append(ns)\n",
        "        raise RuntimeError(\"No solution\")"
      ],
      "metadata": {
        "id": "2Xn7rM2EZnKB"
      },
      "execution_count": null,
      "outputs": []
    },
    {
      "cell_type": "code",
      "source": [
        "puzzle = WaterJugPuzzle()\n",
        "\n",
        "sequence = [\n",
        "    \"fill_5\",\n",
        "    \"pour_5_to_3\",\n",
        "    \"empty_3\",\n",
        "    \"pour_5_to_3\",\n",
        "    \"fill_5\",\n",
        "    \"pour_5_to_3\"\n",
        "]\n",
        "\n",
        "final_state = puzzle.apply_sequence(sequence)\n",
        "assert puzzle.goal(final_state)\n",
        "\n"
      ],
      "metadata": {
        "colab": {
          "base_uri": "https://localhost:8080/"
        },
        "id": "2Ubm9LlzZrNn",
        "outputId": "e16787b9-8dbb-4987-e67a-6a9dc42ebf27"
      },
      "execution_count": null,
      "outputs": [
        {
          "output_type": "stream",
          "name": "stdout",
          "text": [
            "Start: (0, 0)\n",
            "1. fill_5 -> (5, 0)\n",
            "2. pour_5_to_3 -> (2, 3)\n",
            "3. empty_3 -> (2, 0)\n",
            "4. pour_5_to_3 -> (0, 2)\n",
            "5. fill_5 -> (5, 2)\n",
            "6. pour_5_to_3 -> (4, 3)\n",
            "End: (4, 3) (GOAL)\n"
          ]
        }
      ]
    },
    {
      "cell_type": "code",
      "source": [
        "auto_seq = puzzle.bfs()\n",
        "print(\"Shortest sequence found by BFS:\", auto_seq)\n"
      ],
      "metadata": {
        "colab": {
          "base_uri": "https://localhost:8080/"
        },
        "id": "YlyCRPojZsig",
        "outputId": "bb29715f-3454-43f5-a124-8bd2ac6198bf"
      },
      "execution_count": null,
      "outputs": [
        {
          "output_type": "stream",
          "name": "stdout",
          "text": [
            "Shortest sequence found by BFS: ['fill_5', 'pour_5_to_3', 'empty_3', 'pour_5_to_3', 'fill_5', 'pour_5_to_3']\n"
          ]
        }
      ]
    }
  ]
}